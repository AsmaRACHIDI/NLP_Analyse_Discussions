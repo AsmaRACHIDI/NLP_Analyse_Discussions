{
 "cells": [
  {
   "cell_type": "markdown",
   "metadata": {
    "id": "MNBVSFaLObUS"
   },
   "source": [
    "# Notebook NLP\n",
    "\n",
    "Introduction au NLP avec l'example des avis rendus par la CADA (Comission d'Accès aux Documents Administratifs)\n",
    "L'objectif de ce notebook est présenter des exemples d'utilisation de modèles de traitement du langage naturel, à partir d'un jeu de données textuelles. Nous allons analyser les avis CADA et tenter de répondre à deux questions: \n",
    "\n",
    "### 1- Puis-je dégager les thèmes principaux traités par les avis CADA? \n",
    "### 2 - Puis-je classer automatiquement les avis en avis Favorable / Défavorable à partir du texte de l'avis? \n",
    "\n",
    "Concernant la première question, on se met dans la peau d'un agent de la CADA, qui doit faire un rapport présentant les principaux thèmes abordés dans les avis CADA, et la proportion représentée par chacun de ces thèmes. \n",
    "\n",
    "Concernant la deuxième question, l'intérêt de ce type d'analyse serait de vérifier automatiquement la cohérence des métadonnées. Est-ce qu'un avis classé dans le SI comme favorable correspond bien à un avis défavorable au regard du texte de l'avis. \n",
    "\n",
    "\n",
    "A la fin du notebook, on présente quelques étapes classiques de traitement de langage naturel. \n",
    "\n",
    "La page de data.gouv où l'on peut télécharger les données est ici: https://www.data.gouv.fr/fr/datasets/avis-et-conseils-de-la-cada/ . L'url de téléchargement des données utilisées ici est https://www.data.gouv.fr/fr/datasets/r/93aed7ce-db2f-4982-8127-340562061e4b . "
   ]
  },
  {
   "cell_type": "markdown",
   "metadata": {
    "id": "92OBZVPg8wZ0"
   },
   "source": [
    "## Partie 0: Analyses simples du jeu de données "
   ]
  },
  {
   "cell_type": "markdown",
   "metadata": {
    "id": "yUl0vxFQ8wZ2"
   },
   "source": [
    "Importation des libraries utiles"
   ]
  },
  {
   "cell_type": "code",
   "execution_count": 1,
   "metadata": {
    "id": "dC4ECExRSWdV"
   },
   "outputs": [],
   "source": [
    "# pour la manipulation de jeux de données \n",
    "import pandas as pd\n",
    "import numpy as np\n",
    "\n",
    "# commandes pour éliminer les warnings \n",
    "import warnings\n",
    "warnings.filterwarnings(\"ignore\")\n",
    "\n",
    "# pour la dataviz \n",
    "import matplotlib.pyplot as plt\n",
    "plt.style.use('fivethirtyeight')\n",
    "import matplotlib\n",
    "matplotlib.rcParams['axes.labelsize'] = 14\n",
    "matplotlib.rcParams['xtick.labelsize'] = 12\n",
    "matplotlib.rcParams['ytick.labelsize'] = 12\n",
    "matplotlib.rcParams['text.color'] = 'k'"
   ]
  },
  {
   "cell_type": "markdown",
   "metadata": {
    "id": "otCMLJuz8wZ8"
   },
   "source": [
    "Lecture du jeu de données à partir de l'url "
   ]
  },
  {
   "cell_type": "code",
   "execution_count": 2,
   "metadata": {
    "id": "Gog_D9PYOlS3"
   },
   "outputs": [],
   "source": [
    "# lire le jeu de données en un objet \"pandas dataframe\"\n",
    "df = pd.read_csv(\"https://www.data.gouv.fr/fr/datasets/r/ff3d14f4-b19b-4c33-a03c-e7819223da93\")"
   ]
  },
  {
   "cell_type": "markdown",
   "metadata": {
    "id": "KNJVzHQD8wZ_"
   },
   "source": [
    "Quel est le nombre de lignes et le nombre de colonnes de mon jeu de données ? "
   ]
  },
  {
   "cell_type": "code",
   "execution_count": 3,
   "metadata": {
    "id": "R0X5-nxl8waA"
   },
   "outputs": [
    {
     "data": {
      "text/plain": [
       "(49632, 11)"
      ]
     },
     "execution_count": 3,
     "metadata": {},
     "output_type": "execute_result"
    }
   ],
   "source": [
    "df.shape"
   ]
  },
  {
   "cell_type": "markdown",
   "metadata": {
    "id": "1oqmDfpt8waB"
   },
   "source": [
    "Quels sont les types des colonnes mon jeu de données? "
   ]
  },
  {
   "cell_type": "code",
   "execution_count": 4,
   "metadata": {
    "id": "kvnqPulL8waD"
   },
   "outputs": [
    {
     "data": {
      "text/plain": [
       "Numéro de dossier       int64\n",
       "Administration         object\n",
       "Type                   object\n",
       "Année                   int64\n",
       "Séance                 object\n",
       "Objet                  object\n",
       "Thème et sous thème    object\n",
       "Mots clés              object\n",
       "Sens et motivation     object\n",
       "Partie                 object\n",
       "Avis                   object\n",
       "dtype: object"
      ]
     },
     "execution_count": 4,
     "metadata": {},
     "output_type": "execute_result"
    }
   ],
   "source": [
    "df.dtypes"
   ]
  },
  {
   "cell_type": "markdown",
   "metadata": {
    "id": "MWonej658waE"
   },
   "source": [
    "A quoi ressemble mon jeu de données ? "
   ]
  },
  {
   "cell_type": "code",
   "execution_count": 5,
   "metadata": {
    "id": "QplKNQpo8waF"
   },
   "outputs": [
    {
     "data": {
      "text/html": [
       "<div>\n",
       "<style scoped>\n",
       "    .dataframe tbody tr th:only-of-type {\n",
       "        vertical-align: middle;\n",
       "    }\n",
       "\n",
       "    .dataframe tbody tr th {\n",
       "        vertical-align: top;\n",
       "    }\n",
       "\n",
       "    .dataframe thead th {\n",
       "        text-align: right;\n",
       "    }\n",
       "</style>\n",
       "<table border=\"1\" class=\"dataframe\">\n",
       "  <thead>\n",
       "    <tr style=\"text-align: right;\">\n",
       "      <th></th>\n",
       "      <th>Numéro de dossier</th>\n",
       "      <th>Administration</th>\n",
       "      <th>Type</th>\n",
       "      <th>Année</th>\n",
       "      <th>Séance</th>\n",
       "      <th>Objet</th>\n",
       "      <th>Thème et sous thème</th>\n",
       "      <th>Mots clés</th>\n",
       "      <th>Sens et motivation</th>\n",
       "      <th>Partie</th>\n",
       "      <th>Avis</th>\n",
       "    </tr>\n",
       "  </thead>\n",
       "  <tbody>\n",
       "    <tr>\n",
       "      <th>0</th>\n",
       "      <td>19840002</td>\n",
       "      <td>ministre de la défense</td>\n",
       "      <td>Avis</td>\n",
       "      <td>1984</td>\n",
       "      <td>03/03/1984</td>\n",
       "      <td>[Voir avis]</td>\n",
       "      <td>Justice, Ordre Public Et Sécurité/Défense Et D...</td>\n",
       "      <td>Armée</td>\n",
       "      <td>Défavorable/Défense</td>\n",
       "      <td>III</td>\n",
       "      <td>La commission d'accès aux documents administra...</td>\n",
       "    </tr>\n",
       "    <tr>\n",
       "      <th>1</th>\n",
       "      <td>19840003</td>\n",
       "      <td>ministre de la défense</td>\n",
       "      <td>Avis</td>\n",
       "      <td>1984</td>\n",
       "      <td>13/12/1984</td>\n",
       "      <td>[Voir avis]</td>\n",
       "      <td>Economie, Industrie, Agriculture/Secteurs Écon...</td>\n",
       "      <td>Armée</td>\n",
       "      <td>Irrecevable/Imprécise, Défavorable/Défense, In...</td>\n",
       "      <td>III</td>\n",
       "      <td>La commission d'accès aux documents administra...</td>\n",
       "    </tr>\n",
       "    <tr>\n",
       "      <th>2</th>\n",
       "      <td>19850001</td>\n",
       "      <td>ministre de l'économie, des finances et du budget</td>\n",
       "      <td>Avis</td>\n",
       "      <td>1985</td>\n",
       "      <td>05/12/1985</td>\n",
       "      <td>[Voir avis]</td>\n",
       "      <td>Justice, Ordre Public Et Sécurité/Association,...</td>\n",
       "      <td>NaN</td>\n",
       "      <td>Défavorable</td>\n",
       "      <td>III</td>\n",
       "      <td>La commission d'accès aux documents administra...</td>\n",
       "    </tr>\n",
       "    <tr>\n",
       "      <th>3</th>\n",
       "      <td>19860001</td>\n",
       "      <td>directeur départemental du travail et de l'emp...</td>\n",
       "      <td>Conseil</td>\n",
       "      <td>1986</td>\n",
       "      <td>30/01/1986</td>\n",
       "      <td>(voir avis)</td>\n",
       "      <td>Travail Et Emploi/Droit Du Travail</td>\n",
       "      <td>Licenciement, Conditions de travail</td>\n",
       "      <td>Défavorable/Procédure, Sans objet</td>\n",
       "      <td>III</td>\n",
       "      <td>La commission d'accès aux documents administra...</td>\n",
       "    </tr>\n",
       "    <tr>\n",
       "      <th>4</th>\n",
       "      <td>19870061</td>\n",
       "      <td>gouverneur de la Banque de France</td>\n",
       "      <td>Avis</td>\n",
       "      <td>1987</td>\n",
       "      <td>02/04/1987</td>\n",
       "      <td>[Voir avis]</td>\n",
       "      <td>Economie, Industrie, Agriculture/Secteurs Écon...</td>\n",
       "      <td>Banques et assurances</td>\n",
       "      <td>Défavorable/Sécurité publique, Favorable/Sauf ...</td>\n",
       "      <td>III</td>\n",
       "      <td>La commission d'accès aux documents administra...</td>\n",
       "    </tr>\n",
       "  </tbody>\n",
       "</table>\n",
       "</div>"
      ],
      "text/plain": [
       "   Numéro de dossier                                     Administration  \\\n",
       "0           19840002                             ministre de la défense   \n",
       "1           19840003                             ministre de la défense   \n",
       "2           19850001  ministre de l'économie, des finances et du budget   \n",
       "3           19860001  directeur départemental du travail et de l'emp...   \n",
       "4           19870061                  gouverneur de la Banque de France   \n",
       "\n",
       "      Type  Année      Séance        Objet  \\\n",
       "0     Avis   1984  03/03/1984  [Voir avis]   \n",
       "1     Avis   1984  13/12/1984  [Voir avis]   \n",
       "2     Avis   1985  05/12/1985  [Voir avis]   \n",
       "3  Conseil   1986  30/01/1986  (voir avis)   \n",
       "4     Avis   1987  02/04/1987  [Voir avis]   \n",
       "\n",
       "                                 Thème et sous thème  \\\n",
       "0  Justice, Ordre Public Et Sécurité/Défense Et D...   \n",
       "1  Economie, Industrie, Agriculture/Secteurs Écon...   \n",
       "2  Justice, Ordre Public Et Sécurité/Association,...   \n",
       "3                 Travail Et Emploi/Droit Du Travail   \n",
       "4  Economie, Industrie, Agriculture/Secteurs Écon...   \n",
       "\n",
       "                             Mots clés  \\\n",
       "0                                Armée   \n",
       "1                                Armée   \n",
       "2                                  NaN   \n",
       "3  Licenciement, Conditions de travail   \n",
       "4                Banques et assurances   \n",
       "\n",
       "                                  Sens et motivation Partie  \\\n",
       "0                                Défavorable/Défense    III   \n",
       "1  Irrecevable/Imprécise, Défavorable/Défense, In...    III   \n",
       "2                                        Défavorable    III   \n",
       "3                  Défavorable/Procédure, Sans objet    III   \n",
       "4  Défavorable/Sécurité publique, Favorable/Sauf ...    III   \n",
       "\n",
       "                                                Avis  \n",
       "0  La commission d'accès aux documents administra...  \n",
       "1  La commission d'accès aux documents administra...  \n",
       "2  La commission d'accès aux documents administra...  \n",
       "3  La commission d'accès aux documents administra...  \n",
       "4  La commission d'accès aux documents administra...  "
      ]
     },
     "execution_count": 5,
     "metadata": {},
     "output_type": "execute_result"
    }
   ],
   "source": [
    "df.head()"
   ]
  },
  {
   "cell_type": "markdown",
   "metadata": {
    "id": "_zN2pzoR8waG"
   },
   "source": [
    "Ci-dessus, le texte des avis est tronqué, nous allons donc regarder un avis complet à l'aide de la commande ci-dessous (changer le numero après \"numero_doc = \" puis réexécuter la cellule afin de visualiser un nouvel exemple)"
   ]
  },
  {
   "cell_type": "code",
   "execution_count": 6,
   "metadata": {
    "id": "jW2-nU0i8waG"
   },
   "outputs": [
    {
     "name": "stdout",
     "output_type": "stream",
     "text": [
      "Date de l'avis\n",
      "19/04/2018\n",
      "\n",
      "\n",
      "Texte de l'avis\n",
      "La commission d'accès aux documents administratifs a examiné dans sa séance du 19 avril 2018 votre demande de conseil relative au caractère communicable des rapports d'enquête suivants, réalisés dans le cadre des contrôles sanitaires de deux logements d'un même immeuble, à un ancien locataire ayant engagé une procédure judiciaire à l'encontre du propriétaire :\n",
      "1) le rapport de 2011 concernant le logement dont il était locataire, sachant qu'il ne l'était pas encore lors de sa réalisation ;\n",
      "2) le rapport de 2014 concernant le logement situé au-dessus de celui dont il était locataire, sachant qu'il l'était au moment de sa réalisation.\n",
      "\n",
      "S'agissant du point 1), la commission rappelle que la communication des pièces relatives à l'insalubrité d'un logement à une personne qui ne serait pas directement concernée est susceptible de porter atteinte au respect de la vie privée tant de son occupant que de son propriétaire, et est également susceptible de révéler de la part de l'un comme de l'autre un comportement dont la divulgation pourrait lui porter préjudice. Elle considère que ces documents ne sont donc communicables qu'à l'occupant et au propriétaire, pour la période qui les concerne, qui sont l'un et l'autre directement concernés, pour cette période, par ces pièces.\n",
      "\n",
      "La commission estime en revanche que l'occupant d'un logement n'est pas directement concerné par les pièces relatives à la salubrité de ce logement antérieures au début de sa période d'occupation. Un locataire ne présente donc pas la qualité de personne « intéressée », au sens de l'article L311-6 du code des relations entre le public et l'administration, par les documents émanant d'un précédent locataire et du bailleur, et reçus par les services municipaux, ou produits par ces derniers, à propos du signalement par ce premier locataire de l'état de salubrité du logement.\n",
      "\n",
      "La commission estime en l'espèce, que le rapport de 2011 n'est pas communicable à la personne qui n'était pas encore devenue locataire au moment de sa réalisation.\n",
      "\n",
      "S'agissant du rapport de 2014, la commission rappelle que le locataire d’un logement justifie de la qualité d’intéressé à l’égard des documents portant sur l’état de salubrité de ce logement. \n",
      "\n",
      "En l'espèce, le locataire du logement situé au-dessous de celui qui a fait l'objet d'un contrôle ne peut être regardée comme personne intéressée de ce logement. Le rapport de contrôle dudit logement ne lui est donc pas communicable.\n"
     ]
    }
   ],
   "source": [
    "numero_doc = 30000\n",
    "print(\"Date de l'avis\")\n",
    "print(df.loc[numero_doc, \"Séance\"])\n",
    "print(\"\\n\")\n",
    "print(\"Texte de l'avis\")\n",
    "print(df.loc[numero_doc, \"Avis\"])"
   ]
  },
  {
   "cell_type": "markdown",
   "metadata": {
    "id": "gsxoLdMz8waH"
   },
   "source": [
    "On regarde les variables catégorielles: \n",
    "- combien de valeurs remplies (count), \n",
    "- combien de valeurs uniques / modalités (unique), \n",
    "- quelle est la modalité la plus représentée (top), \n",
    "- quelle est le nombre de fois où apparait la modalité la plus représentée (freq)"
   ]
  },
  {
   "cell_type": "code",
   "execution_count": 7,
   "metadata": {
    "id": "6vEPkjld8waI"
   },
   "outputs": [
    {
     "data": {
      "text/html": [
       "<div>\n",
       "<style scoped>\n",
       "    .dataframe tbody tr th:only-of-type {\n",
       "        vertical-align: middle;\n",
       "    }\n",
       "\n",
       "    .dataframe tbody tr th {\n",
       "        vertical-align: top;\n",
       "    }\n",
       "\n",
       "    .dataframe thead th {\n",
       "        text-align: right;\n",
       "    }\n",
       "</style>\n",
       "<table border=\"1\" class=\"dataframe\">\n",
       "  <thead>\n",
       "    <tr style=\"text-align: right;\">\n",
       "      <th></th>\n",
       "      <th>Numéro de dossier</th>\n",
       "      <th>Année</th>\n",
       "    </tr>\n",
       "  </thead>\n",
       "  <tbody>\n",
       "    <tr>\n",
       "      <th>count</th>\n",
       "      <td>4.963200e+04</td>\n",
       "      <td>49632.000000</td>\n",
       "    </tr>\n",
       "    <tr>\n",
       "      <th>mean</th>\n",
       "      <td>2.016317e+07</td>\n",
       "      <td>2016.218750</td>\n",
       "    </tr>\n",
       "    <tr>\n",
       "      <th>std</th>\n",
       "      <td>4.024508e+04</td>\n",
       "      <td>4.099565</td>\n",
       "    </tr>\n",
       "    <tr>\n",
       "      <th>min</th>\n",
       "      <td>1.984000e+07</td>\n",
       "      <td>1984.000000</td>\n",
       "    </tr>\n",
       "    <tr>\n",
       "      <th>25%</th>\n",
       "      <td>2.014361e+07</td>\n",
       "      <td>2014.000000</td>\n",
       "    </tr>\n",
       "    <tr>\n",
       "      <th>50%</th>\n",
       "      <td>2.017106e+07</td>\n",
       "      <td>2017.000000</td>\n",
       "    </tr>\n",
       "    <tr>\n",
       "      <th>75%</th>\n",
       "      <td>2.019190e+07</td>\n",
       "      <td>2019.000000</td>\n",
       "    </tr>\n",
       "    <tr>\n",
       "      <th>max</th>\n",
       "      <td>2.021437e+07</td>\n",
       "      <td>2021.000000</td>\n",
       "    </tr>\n",
       "  </tbody>\n",
       "</table>\n",
       "</div>"
      ],
      "text/plain": [
       "       Numéro de dossier         Année\n",
       "count       4.963200e+04  49632.000000\n",
       "mean        2.016317e+07   2016.218750\n",
       "std         4.024508e+04      4.099565\n",
       "min         1.984000e+07   1984.000000\n",
       "25%         2.014361e+07   2014.000000\n",
       "50%         2.017106e+07   2017.000000\n",
       "75%         2.019190e+07   2019.000000\n",
       "max         2.021437e+07   2021.000000"
      ]
     },
     "execution_count": 7,
     "metadata": {},
     "output_type": "execute_result"
    }
   ],
   "source": [
    "df.describe()"
   ]
  },
  {
   "cell_type": "markdown",
   "metadata": {
    "id": "arfJfRuR8waI"
   },
   "source": [
    "### Visualisation du nombre d'avis par année"
   ]
  },
  {
   "cell_type": "markdown",
   "metadata": {
    "id": "-VaNz5m68waI"
   },
   "source": [
    "On crée une dataframe avec une ligne par année, la colonne count donne le nombre d'avis par année.\n",
    "On va utilise la librairie matplotlib pour tracer le graphe.\n"
   ]
  },
  {
   "cell_type": "code",
   "execution_count": 8,
   "metadata": {},
   "outputs": [
    {
     "data": {
      "text/html": [
       "<div>\n",
       "<style scoped>\n",
       "    .dataframe tbody tr th:only-of-type {\n",
       "        vertical-align: middle;\n",
       "    }\n",
       "\n",
       "    .dataframe tbody tr th {\n",
       "        vertical-align: top;\n",
       "    }\n",
       "\n",
       "    .dataframe thead th {\n",
       "        text-align: right;\n",
       "    }\n",
       "</style>\n",
       "<table border=\"1\" class=\"dataframe\">\n",
       "  <thead>\n",
       "    <tr style=\"text-align: right;\">\n",
       "      <th></th>\n",
       "      <th>Numéro de dossier</th>\n",
       "      <th>Administration</th>\n",
       "      <th>Type</th>\n",
       "      <th>Année</th>\n",
       "      <th>Séance</th>\n",
       "      <th>Objet</th>\n",
       "      <th>Thème et sous thème</th>\n",
       "      <th>Mots clés</th>\n",
       "      <th>Sens et motivation</th>\n",
       "      <th>Partie</th>\n",
       "      <th>Avis</th>\n",
       "      <th>count</th>\n",
       "    </tr>\n",
       "  </thead>\n",
       "  <tbody>\n",
       "    <tr>\n",
       "      <th>0</th>\n",
       "      <td>19840002</td>\n",
       "      <td>ministre de la défense</td>\n",
       "      <td>Avis</td>\n",
       "      <td>1984</td>\n",
       "      <td>03/03/1984</td>\n",
       "      <td>[Voir avis]</td>\n",
       "      <td>Justice, Ordre Public Et Sécurité/Défense Et D...</td>\n",
       "      <td>Armée</td>\n",
       "      <td>Défavorable/Défense</td>\n",
       "      <td>III</td>\n",
       "      <td>La commission d'accès aux documents administra...</td>\n",
       "      <td>1</td>\n",
       "    </tr>\n",
       "    <tr>\n",
       "      <th>1</th>\n",
       "      <td>19840003</td>\n",
       "      <td>ministre de la défense</td>\n",
       "      <td>Avis</td>\n",
       "      <td>1984</td>\n",
       "      <td>13/12/1984</td>\n",
       "      <td>[Voir avis]</td>\n",
       "      <td>Economie, Industrie, Agriculture/Secteurs Écon...</td>\n",
       "      <td>Armée</td>\n",
       "      <td>Irrecevable/Imprécise, Défavorable/Défense, In...</td>\n",
       "      <td>III</td>\n",
       "      <td>La commission d'accès aux documents administra...</td>\n",
       "      <td>1</td>\n",
       "    </tr>\n",
       "    <tr>\n",
       "      <th>2</th>\n",
       "      <td>19850001</td>\n",
       "      <td>ministre de l'économie, des finances et du budget</td>\n",
       "      <td>Avis</td>\n",
       "      <td>1985</td>\n",
       "      <td>05/12/1985</td>\n",
       "      <td>[Voir avis]</td>\n",
       "      <td>Justice, Ordre Public Et Sécurité/Association,...</td>\n",
       "      <td>NaN</td>\n",
       "      <td>Défavorable</td>\n",
       "      <td>III</td>\n",
       "      <td>La commission d'accès aux documents administra...</td>\n",
       "      <td>1</td>\n",
       "    </tr>\n",
       "    <tr>\n",
       "      <th>3</th>\n",
       "      <td>19860001</td>\n",
       "      <td>directeur départemental du travail et de l'emp...</td>\n",
       "      <td>Conseil</td>\n",
       "      <td>1986</td>\n",
       "      <td>30/01/1986</td>\n",
       "      <td>(voir avis)</td>\n",
       "      <td>Travail Et Emploi/Droit Du Travail</td>\n",
       "      <td>Licenciement, Conditions de travail</td>\n",
       "      <td>Défavorable/Procédure, Sans objet</td>\n",
       "      <td>III</td>\n",
       "      <td>La commission d'accès aux documents administra...</td>\n",
       "      <td>1</td>\n",
       "    </tr>\n",
       "  </tbody>\n",
       "</table>\n",
       "</div>"
      ],
      "text/plain": [
       "   Numéro de dossier                                     Administration  \\\n",
       "0           19840002                             ministre de la défense   \n",
       "1           19840003                             ministre de la défense   \n",
       "2           19850001  ministre de l'économie, des finances et du budget   \n",
       "3           19860001  directeur départemental du travail et de l'emp...   \n",
       "\n",
       "      Type  Année      Séance        Objet  \\\n",
       "0     Avis   1984  03/03/1984  [Voir avis]   \n",
       "1     Avis   1984  13/12/1984  [Voir avis]   \n",
       "2     Avis   1985  05/12/1985  [Voir avis]   \n",
       "3  Conseil   1986  30/01/1986  (voir avis)   \n",
       "\n",
       "                                 Thème et sous thème  \\\n",
       "0  Justice, Ordre Public Et Sécurité/Défense Et D...   \n",
       "1  Economie, Industrie, Agriculture/Secteurs Écon...   \n",
       "2  Justice, Ordre Public Et Sécurité/Association,...   \n",
       "3                 Travail Et Emploi/Droit Du Travail   \n",
       "\n",
       "                             Mots clés  \\\n",
       "0                                Armée   \n",
       "1                                Armée   \n",
       "2                                  NaN   \n",
       "3  Licenciement, Conditions de travail   \n",
       "\n",
       "                                  Sens et motivation Partie  \\\n",
       "0                                Défavorable/Défense    III   \n",
       "1  Irrecevable/Imprécise, Défavorable/Défense, In...    III   \n",
       "2                                        Défavorable    III   \n",
       "3                  Défavorable/Procédure, Sans objet    III   \n",
       "\n",
       "                                                Avis  count  \n",
       "0  La commission d'accès aux documents administra...      1  \n",
       "1  La commission d'accès aux documents administra...      1  \n",
       "2  La commission d'accès aux documents administra...      1  \n",
       "3  La commission d'accès aux documents administra...      1  "
      ]
     },
     "execution_count": 8,
     "metadata": {},
     "output_type": "execute_result"
    }
   ],
   "source": [
    "df[\"count\"] = 1\n",
    "df.head(4)"
   ]
  },
  {
   "cell_type": "code",
   "execution_count": 9,
   "metadata": {},
   "outputs": [],
   "source": [
    "#dftest = df.groupby(\"Année\").agg(\"sum\")\n",
    "#dftest.head(5)"
   ]
  },
  {
   "cell_type": "code",
   "execution_count": 11,
   "metadata": {
    "id": "KzV8BTR98waJ"
   },
   "outputs": [
    {
     "name": "stdout",
     "output_type": "stream",
     "text": [
      "<class 'pandas.core.frame.DataFrame'>\n",
      "    Année  Numéro de dossier  count\n",
      "0    1984           39680005      2\n",
      "1    1985           19850001      1\n",
      "2    1986           19860001      1\n",
      "3    1987           39740441      2\n",
      "4    1988           39763767      2\n",
      "5    1989           39780944      2\n",
      "6    1990           99505314      5\n",
      "7    1991          119466600      6\n",
      "8    1992          219129963     11\n",
      "9    1993          279039745     14\n",
      "10   1994          358943770     18\n",
      "11   1995          219466726     11\n",
      "12   1996          159690998      8\n",
      "13   1997           59914054      3\n",
      "14   1998          239785066     12\n",
      "15   1999          999606352     50\n",
      "16   2000         6940834036    347\n",
      "17   2001         6784077109    339\n",
      "18   2002         4985552163    249\n",
      "19   2003         4286912602    214\n",
      "20   2004         2605481532    130\n",
      "21   2005         4130741852    206\n",
      "22   2006         7603833140    379\n",
      "23   2007         8350050690    416\n",
      "24   2008         6064840098    302\n",
      "25   2009         4460356801    222\n",
      "26   2010         3115902113    155\n",
      "27   2011         3117402474    155\n",
      "28   2012        15515392315    771\n",
      "29   2013        96210788147   4779\n",
      "30   2014        90174059433   4477\n",
      "31   2015       101667428232   5045\n",
      "32   2016        95002269631   4712\n",
      "33   2017       117097045588   5805\n",
      "34   2018        85586898276   4241\n",
      "35   2019       106818430175   5291\n",
      "36   2020       143799343791   7119\n",
      "37   2021        83467726231   4130\n"
     ]
    },
    {
     "data": {
      "image/png": "[encoded data removed]",
      "text/plain": [
       "<Figure size 2000x800 with 1 Axes>"
      ]
     },
     "metadata": {},
     "output_type": "display_data"
    }
   ],
   "source": [
    "# création de la dataframe agrégée au niveau de l'année \n",
    "#df[\"count\"] = 1\n",
    "dfg = df.groupby(\"Année\").sum().reset_index()\n",
    "print(type(dfg))\n",
    "print(dfg)\n",
    "\n",
    "# commandes pour tracer le graphe \n",
    "plt.figure(figsize=(20, 8))\n",
    "plt.plot(dfg['Année'], dfg['count'], 'b-')\n",
    "plt.xlabel('Année'); plt.ylabel(\"Nombre d'avis\"); plt.title(\"Nombre d'avis CADA par année\");"
   ]
  },
  {
   "cell_type": "raw",
   "metadata": {},
   "source": [
    "Ce code utilise la méthode groupby sur le DataFrame df en spécifiant la colonne \"Année\" en tant que critère de regroupement. La méthode sum est ensuite utilisée pour agréger les données en prenant la somme de toutes les valeurs pour chaque année. Les données agrégées sont stockées dans un nouveau DataFrame dfg.\n",
    "\n",
    "Si vous souhaitez réinitialiser l'index du DataFrame agrégé pour que les numéros d'index soient consécutifs à partir de 0, vous pouvez utiliser la méthode reset_index"
   ]
  },
  {
   "cell_type": "markdown",
   "metadata": {
    "id": "BHfGVKhx8waJ"
   },
   "source": [
    "On remarque qu'il y a très peu d'avis avant 2012, et donc que la majorité des avis sont pour la période 2012-2020\n",
    "Commbien d'avis sont compris dans cette période 2012-2020? "
   ]
  },
  {
   "cell_type": "code",
   "execution_count": 18,
   "metadata": {},
   "outputs": [],
   "source": [
    "test=df[df[\"Année\"].isin(range(2012, 2020))]"
   ]
  },
  {
   "cell_type": "code",
   "execution_count": 19,
   "metadata": {},
   "outputs": [
    {
     "data": {
      "text/plain": [
       "35121"
      ]
     },
     "execution_count": 19,
     "metadata": {},
     "output_type": "execute_result"
    }
   ],
   "source": [
    "len(test)"
   ]
  },
  {
   "cell_type": "code",
   "execution_count": 14,
   "metadata": {
    "id": "o-5PNvMg8waK"
   },
   "outputs": [
    {
     "name": "stdout",
     "output_type": "stream",
     "text": [
      "Nombre d'avis dans 2012-2020 :  35121\n",
      "Proportion d'avis dans 2012-2020 :  0.7076281431334622\n"
     ]
    }
   ],
   "source": [
    "print(\"Nombre d'avis dans 2012-2020 :  {}\".format(len(df[df[\"Année\"].isin(range(2012, 2020))])))\n",
    "print(\"Proportion d'avis dans 2012-2020 :  {}\".format(len(df[df[\"Année\"].isin(range(2012, 2020))])/len(df)))"
   ]
  },
  {
   "cell_type": "markdown",
   "metadata": {
    "id": "BB9MkE4m8waK"
   },
   "source": [
    "# Partie 1 : Topic extraction (non supervisé)\n"
   ]
  },
  {
   "cell_type": "markdown",
   "metadata": {
    "id": "7o-Fquu28waK"
   },
   "source": [
    "## Un algorithme d'extraction de topiques: LDA (Latent Dirichlet Allocation) \n",
    "\n",
    "### ressource : article très pédagogique (en anglais) dont on s'inspire ici https://towardsdatascience.com/the-complete-guide-for-topics-extraction-in-python-a6aaa6cedbbc "
   ]
  },
  {
   "cell_type": "markdown",
   "metadata": {
    "id": "6qXmcGj-8waL"
   },
   "source": [
    "### A quoi sert cet algorithme?\n",
    " \n",
    "LDA est un algorithme d'extraction de topics. A partir d'un corpus de documents, il permet de : \n",
    "- définir un nombre de topics (un topic est caractérisé par une liste de mots)\n",
    "- attribuer à chaque document un ou des topics de la liste de topics trouvés par l'algorithme \n",
    "\n"
   ]
  },
  {
   "cell_type": "markdown",
   "metadata": {
    "id": "U3QGNg5u8waM"
   },
   "source": [
    "![illustration_LDA.png](https://github.com/etalab-ia/ami-ia/blob/master/session2/images/illustration_LDA.png?raw=1)"
   ]
  },
  {
   "cell_type": "markdown",
   "metadata": {
    "id": "K2DgD6CO8waM"
   },
   "source": [
    "### Quel est l'intérêt pour l'analyse des données CADA? \n",
    "\n",
    "Dans le jeu de données, nous avons la colonne \"Thème et sous thème\". Cependant, cette donnée a une granularité beaucoup trop fine: il y a 828 valeurs distinctes dans cette variable. \n",
    "\n",
    "On a besoin d'avoir une idée des thématiques abordées dans les avis rendus par la CADA, avec un nombre plus restreint de modalités. Une analyse automatique nous permet de réaliser cet objectif. \n"
   ]
  },
  {
   "cell_type": "code",
   "execution_count": null,
   "metadata": {
    "id": "jSy5cvpg8waM"
   },
   "outputs": [],
   "source": [
    "# Etape 0 : importation de la librairie avec l'algorithme \n",
    "#!pip install gensim si ce n'est pas déjà fait \n",
    "import nltk\n",
    "nltk.download('stopwords')\n",
    "nltk.download('punkt')\n",
    "from nltk.corpus import stopwords\n",
    "from nltk.tokenize import sent_tokenize, word_tokenize\n",
    "\n",
    "from gensim import models\n",
    "from gensim.models import Phrases\n",
    "from gensim import corpora"
   ]
  },
  {
   "cell_type": "markdown",
   "metadata": {
    "id": "fnCUs5Hw8waN"
   },
   "source": [
    "#### Etape 1 : Préparation et nettoyage des données textuelles \n",
    "\n",
    "- tokenization (découpage du texte initial en mots)\n",
    "- supression de la ponctuation (pour certains cas d'usage, il peut cependant être utile de garder la ponctuation)\n"
   ]
  },
  {
   "cell_type": "markdown",
   "metadata": {
    "id": "oPw9tSOe8waN"
   },
   "source": [
    "Pour la tokenisation, nous utilisons une fonction de la librairie NLTK. "
   ]
  },
  {
   "cell_type": "code",
   "execution_count": null,
   "metadata": {
    "id": "cFqvWPum8waO"
   },
   "outputs": [],
   "source": [
    "# on retire les Avis \"vides\"\n",
    "df = df.dropna(subset = [\"Avis\"]) \n",
    "# on tokenize \n",
    "#df['column_name'] = df['column_name'].str.replace(\"'\", \" \")\n",
    "df[\"avis_word_token\"] = df[\"Avis\"].map(lambda x : word_tokenize(x.replace(\"'\", \" \"))) # on remplace les appostrophes par un espaces\n",
    "# car la tokenization avec la fonction \"word_tokenize\" de nltk ne les sépare pas autrement \n",
    "#Ici, nous utilisons la fonction map pour itérer sur chaque élément de la colonne column_name \n",
    "#et appeler la fonction lambda pour remplacer les apostrophes par des espaces. \n",
    "#Le résultat est stocké à nouveau dans la colonne column_name.\n",
    "df[\"avis_word_token\"] = df[\"avis_word_token\"].map(lambda list_word: [word.lower()  for word in list_word if word.isalpha()])"
   ]
  },
  {
   "cell_type": "markdown",
   "metadata": {
    "id": "WROLgA8y8waO"
   },
   "source": [
    "On supprime les stopwords (les mots très courants et qui n'apportent pas d'informations spécifiques pour caractériser le thème du document)\n",
    "Pour cela, on utilise une liste prédéfinie de stopwords de la librairie nltk, que l'on complète avec un certain nombre de stopwords. \n"
   ]
  },
  {
   "cell_type": "code",
   "execution_count": null,
   "metadata": {
    "id": "ZZRC8iQ-8waO"
   },
   "outputs": [],
   "source": [
    "# création de la liste de stopwords\n",
    "custom_stopwords = [\"a\", \"dont\", \"madame\", \"monsieur\", \"peut\", \"dès\", \"lors\", \"être\", \"ce\",\n",
    "                    \"ces\", \"cet\", \"cette\", \"comme\", \"ainsi\", \"si\"]\n",
    "stopwords_fr = stopwords.words('french') + custom_stopwords\n",
    "print(len(stopwords_fr))\n",
    "#print(stopwords_fr)\n",
    "\n",
    "# on enlève les stopwords\n",
    "df[\"avis_word_token\"] = df[\"avis_word_token\"].map(lambda list_word: [word for word in list_word if word not in stopwords_fr])\n"
   ]
  },
  {
   "cell_type": "markdown",
   "metadata": {
    "id": "HKNMfxsB8waP"
   },
   "source": [
    "On regarde ce que ça donne (différence entre notre document initial et la liste des tokens \"netoyés\"). \n",
    "Vous pouvez changer le numero_doc (modifier le chiffre après le = ) et exécuter la cellule pour visualiser un autre document du corpus"
   ]
  },
  {
   "cell_type": "code",
   "execution_count": null,
   "metadata": {
    "id": "VQTsUvPr8waP"
   },
   "outputs": [],
   "source": [
    "numero_doc = 0\n",
    "\n",
    "print(\"Document initial\")\n",
    "print(df.loc[numero_doc, \"Avis\"])\n",
    "print(\"\\n\")\n",
    "print(\"Document tokénisé\")\n",
    "print(df.loc[numero_doc, \"avis_word_token\"])\n",
    "print(\"\\n\")\n",
    "print(\"Nombre de token dans le doc :{}\".format(len(df.loc[numero_doc, \"avis_word_token\"])))"
   ]
  },
  {
   "cell_type": "markdown",
   "metadata": {
    "id": "frQIUYZO8waQ"
   },
   "source": [
    "#### Etape 2: Entrainement de l'algorithme \n",
    "\n",
    "Dans l'étape ci-dessous, nous allons, à partir de notre liste de tokens netoyés, créer des bigrammes. Les bigrammes sont des paires de mots, qui peuvent être porteurs de sens et qui sont donc utile pour le topic extraction. \n"
   ]
  },
  {
   "cell_type": "code",
   "execution_count": null,
   "metadata": {
    "id": "2_huKG7Z8waQ"
   },
   "outputs": [],
   "source": [
    "# création des tokens avec bigrammes \n",
    "tokens = df['avis_word_token'].tolist()\n",
    "bigram_model = Phrases(tokens)\n",
    "tokens = list(bigram_model[tokens])"
   ]
  },
  {
   "cell_type": "markdown",
   "metadata": {
    "id": "vtltH8As8waR"
   },
   "source": [
    "Entrainement du modèle après avoir constitué: \n",
    "- le dictionnaire des mots du corpus (ici les tokens \"simples\" (monogrammes) et bigrammes )\n",
    "- le corpus au format spécique du modèle LDA de gensim \n",
    "\n",
    "Il y a différentes hyperparamètres à fixer, dont le plus important est le nombre de topics. Nous commencer par tester 15 topics mais il est possible d'essayer différentes valeurs de cet hyperparamètre. \n",
    "\n",
    "Le concept d'**hyperparamètres** : des paramètres que le modèle ne peut pas apprendre, ils sont donc fixés \"manuellement\".  "
   ]
  },
  {
   "cell_type": "code",
   "execution_count": null,
   "metadata": {
    "id": "gICWBuku8waR"
   },
   "outputs": [],
   "source": [
    "# changer le nombre de topics ici \n",
    "num_topics = 15\n",
    "\n",
    "dictionary_LDA = corpora.Dictionary(tokens)\n",
    "dictionary_LDA.filter_extremes(no_below=3)\n",
    "corpus = [dictionary_LDA.doc2bow(tok) for tok in tokens]\n",
    "\n",
    "\n",
    "\n",
    "# les inputs : le corpus de documents tokenizé et le dictionnaire \n",
    "# (liste des mots apparaissant dans le dictionnaire)\n",
    "\n",
    "np.random.seed(123456)\n",
    "%time lda_model = models.LdaModel(corpus, num_topics=num_topics, \\\n",
    "                                  id2word=dictionary_LDA, \\\n",
    "                                  passes=4, alpha=[0.01]*num_topics, \\\n",
    "                                  eta=[0.01]*len(dictionary_LDA.keys()))"
   ]
  },
  {
   "cell_type": "markdown",
   "metadata": {
    "id": "zojub6-z8waR"
   },
   "source": [
    "#### Etape 3 : Visualisation des topics \n",
    "\n",
    "Dans un premier temps, on peut visualiser les topics de façon très \"brute\" sous forme de listes de termes qui caractérisent chaque topic. L'interprétation de ces topics demande une réfléxion \"humaine\" pour les rendre intelligibles. "
   ]
  },
  {
   "cell_type": "code",
   "execution_count": null,
   "metadata": {
    "id": "-IMvkVmH8waS"
   },
   "outputs": [],
   "source": [
    "# avec 15 topics \n",
    "for i,topic in lda_model.show_topics(formatted=True, num_topics=num_topics, num_words=10):\n",
    "    print(str(i)+\": \"+ topic)\n",
    "    print()"
   ]
  },
  {
   "cell_type": "markdown",
   "metadata": {
    "id": "QDM8_yW08waS"
   },
   "source": [
    "### A vous de jouer ! Essayez de donner une interprétation intelligibles des topics décrits par les listes de termes ci-dessus: \n",
    "- topic 0: \n",
    "- topic 1:\n",
    "- topic 2:\n",
    "- topic 3: \n",
    "- topic 4:\n",
    "- topic 5: \n"
   ]
  },
  {
   "cell_type": "markdown",
   "metadata": {
    "id": "D6ezIKVQ8waS"
   },
   "source": [
    "#### Etape 4 : Attribution des topics aux documents \n"
   ]
  },
  {
   "cell_type": "markdown",
   "metadata": {
    "id": "DJEMtqgR8waS"
   },
   "source": [
    "Attribution des topics pour un document en particulier (faire varier le numéro entre crocher puis refaire tourner la cellule pour voir comment évolue le résultat)"
   ]
  },
  {
   "cell_type": "code",
   "execution_count": null,
   "metadata": {
    "id": "1DG2O95a8waT"
   },
   "outputs": [],
   "source": [
    "numero_doc = 44\n",
    "print(\"Texte de l'avis numéro {}\".format(numero_doc))\n",
    "print(df.loc[numero_doc, \"Avis\"])\n",
    "print(\"\\n\")\n",
    "print(\"Topics et probilités associées\")\n",
    "print(lda_model[corpus[numero_doc]])"
   ]
  },
  {
   "cell_type": "markdown",
   "metadata": {
    "id": "h7VWFc8l8waT"
   },
   "source": [
    "Nous allons maintenant attribuer les topics du LDA à l'ensemble des documents, en rajoutant une colonne \"topic_list\" au jeu de données initial\n",
    "Cette colonne va nous donner une liste de topics est la probabilité que le document appartienne à chacun des topics de la liste. \n",
    "Par exemple, dans l'exemple ci-dessous, le document est caractérisé par 6 des 15 topics. Le topic \"majoritaire\" (ie celui avec la plus forte probabilité) est le topic 9, avec une probabilité associée de 0.43. \n",
    "Nous calculons également les colonnes suivantes :\n",
    "- \"main_topic\": le topic majoritaire (ie celui avec la plus forte probabilité)\n",
    "- \"main_topic_proba\": la probabilté que le document appartienne au topic majoritaire "
   ]
  },
  {
   "cell_type": "code",
   "execution_count": null,
   "metadata": {
    "id": "AVOnNMOQ8waT"
   },
   "outputs": [],
   "source": [
    "df[\"topic_list\"] = [lda_model[i] for i in corpus]\n",
    "# la commande ci dessus nous permet, pour chaque document, d'obtenir une liste de topics avec les probabilités associées \n",
    "# que chaque document appartienne \n",
    "def topic_majoritaire(list_topic, is_proba): \n",
    "    proba = [x[1] for x in list_topic]\n",
    "    max_index = proba.index(max(proba))\n",
    "    return list_topic[max_index][is_proba]\n",
    "df[\"main_topic\"] = df[\"topic_list\"].map(lambda list_topic: topic_majoritaire(list_topic, 0))\n",
    "df[\"main_topic_proba\"] = df[\"topic_list\"].map(lambda list_topic: topic_majoritaire(list_topic, 1))"
   ]
  },
  {
   "cell_type": "code",
   "execution_count": null,
   "metadata": {
    "id": "0e19j1Y98waU"
   },
   "outputs": [],
   "source": [
    "df.head()"
   ]
  },
  {
   "cell_type": "markdown",
   "metadata": {
    "id": "S6qXsfkD8waU"
   },
   "source": [
    "On regarde le nombre de documents par \"topic majoritaire\". La sortie ci-dessous nous permet de voir pour chaque topic, combien de document lui sont associés en tant que topic majoritaire. Les topics sont classés par nombre décroissant de documents. "
   ]
  },
  {
   "cell_type": "code",
   "execution_count": null,
   "metadata": {
    "id": "HRtOfclX8waU"
   },
   "outputs": [],
   "source": [
    "df[\"nombre_documents\"] = 1\n",
    "df_topic = df.groupby([\"main_topic\"])[\"nombre_documents\"].count().sort_values(ascending = False).reset_index()\n",
    "df_topic"
   ]
  },
  {
   "cell_type": "markdown",
   "metadata": {
    "id": "5CZf-Q_-8waV"
   },
   "source": [
    "#### Etape 5 : Eventuellement retour à l'étape 1 (en modifiant les étapes de netoyages) et 2 (en testant différents paramètres, avec en particulier le nombre de topics)\n"
   ]
  },
  {
   "cell_type": "markdown",
   "metadata": {
    "id": "Jday951E8waV"
   },
   "source": [
    "#### Etape 6: Visualisation interactive des topics avec la librairie pyLDAvis\n",
    "La librairie PyLDAvis permet de visualiser les topics extraits via un modèle LDA. \n",
    "Chaque topic est représenté dans le plan par un disque dont l'aire est proportionnelle \"l'importance\" du topic dans l'ensemble des documents (plus précisemment, la métrique utilisée ici pour caractérier l'importance du topic est la distribution marginale du topic dans le corpus). \n",
    "En cliquant sur un cercle dans la partie de gauche (représentant un topic), on obtient à droite les mots caractérisant le topic classés du plus pertinent (en haut) au moins pertinent (en bas).\n",
    "Ce classement par la pertinence (relevance en anglais) d'un mot pour un topic donné dépend d'un facteur lambda que l'on peut faire varier grâce au curseur en haut à droite. Plus lambda est proche de 0, plus les termes pertinents seront rares (mais seront exclusifs i.e. qui ne se retrouveront pas dans d'autres topics). Plus lambda est proche de 1, plus les termes pertinents seront fréquents (mais seront davantage communs à d'autres topics). \n",
    "\n",
    "\n",
    "Voir cette présentation en anglais sur cet outil de visualisation https://speakerdeck.com/bmabey/visualizing-topic-models et le papier de recherche associé https://nlp.stanford.edu/events/illvi2014/papers/sievert-illvi2014.pdf "
   ]
  },
  {
   "cell_type": "code",
   "execution_count": null,
   "metadata": {
    "id": "ewVtHZ028waV"
   },
   "outputs": [],
   "source": [
    "%matplotlib inline\n",
    "!pip install pyLDAvis\n",
    "import pyLDAvis\n",
    "import pyLDAvis.gensim"
   ]
  },
  {
   "cell_type": "code",
   "execution_count": null,
   "metadata": {
    "id": "NUQt6icK8waW"
   },
   "outputs": [],
   "source": [
    "%time vis = pyLDAvis.gensim.prepare(topic_model=lda_model, corpus=corpus, dictionary=dictionary_LDA)\n",
    "pyLDAvis.enable_notebook()\n",
    "pyLDAvis.display(vis)"
   ]
  },
  {
   "cell_type": "markdown",
   "metadata": {
    "id": "4KnxaJ4c8waW"
   },
   "source": [
    "# Partie 2 :  prédiction de la conclusion de la décision à partir du texte de l'avis (modèle supervisé)"
   ]
  },
  {
   "cell_type": "markdown",
   "metadata": {
    "id": "w26Sb8G38waW"
   },
   "source": [
    "La partie précédente présentait un exemple de modèle non supervisé à partir de données textuelles. Des modèles non supervisés ont l'avantage de pouvoir être entrâiné à partir d'un ensemble de documents textuels \"bruts\". \n",
    "Nous présentons dans cette partie un exemple de modèle supervisé. Il faut alors, en plus du texte brut, avoir une variable \"à prédire\". Dans beaucoup de cas, cette variable \"à prédire\" n'est pas directement disponible et il faut la construire (en annotant ou labelisant à la main les documents). \n",
    "\n",
    "Ici nous allons considérer la variable \"Sens et motivation\", qui renseigne la conclusion de l'avis rendu par la Cada. Nous allons voir si nous arrivons à entraîner un modèle à prédire, à partir du texte de la décision, à prédire la conclusion de l'avis. \n",
    "\n",
    "L'intérêt: on peut imaginer que le \"Sens et motivation\" est parfois renseigné de façon erronée et donc vérifier de façon automatique la cohérence de ce qui est renseigné. "
   ]
  },
  {
   "cell_type": "code",
   "execution_count": null,
   "metadata": {
    "id": "aueK28FS8waX"
   },
   "outputs": [],
   "source": [
    "# librairies NLP\n",
    "from sklearn.feature_extraction.text import CountVectorizer, TfidfVectorizer\n",
    "# librairies de machine learning\n",
    "from sklearn.model_selection import train_test_split\n",
    "from sklearn.model_selection import cross_val_score, GridSearchCV\n",
    "from sklearn.linear_model import LogisticRegression\n",
    "from sklearn.naive_bayes import MultinomialNB\n",
    "from sklearn.metrics import confusion_matrix"
   ]
  },
  {
   "cell_type": "markdown",
   "metadata": {
    "id": "PpRhi8q-8waX"
   },
   "source": [
    "#### Etape 1: simplifier la colonne \"sens et motivation\" en un petit nombre de catégorie\n",
    "\n",
    "La colonne \"Sens et motivation\" comporte 3094 modalités (valeurs distinctes) comme vu dans la partie 0 de description des données. Etant donnée que notre jeu de données comporte 38 000 lignes, il y a donc relativement peu d'observations en moyenne par modalité. \n",
    "Il est donc préférable de simplifier la colonne \"Sens et motivation\" afin d'obtenir un nombre beaucoup plus restreint de modalités à prédire. \n",
    "Pour cela, nous allons donc tokeniser le texte de cette colonne afin de regarder quels sont les termes qui apparaissent le plus grand nombre de fois\n"
   ]
  },
  {
   "cell_type": "code",
   "execution_count": null,
   "metadata": {
    "id": "TR7nL5tL8waX"
   },
   "outputs": [],
   "source": [
    "df.head()"
   ]
  },
  {
   "cell_type": "code",
   "execution_count": null,
   "metadata": {
    "id": "EYoUy09q8waX"
   },
   "outputs": [],
   "source": [
    "df = df.dropna(subset = [\"Sens et motivation\"]) # on supprime les colonnes qui n'ont pas de valeur pour sens et motivation\n",
    "df[\"sens_token\"] = df[\"Sens et motivation\"].map(lambda x: word_tokenize(x.lower().replace(\"'\", \" \").replace(\"/\", \" \")))\n",
    "df[\"nb_tokens_motivation\"] = df[\"sens_token\"].map(len)"
   ]
  },
  {
   "cell_type": "markdown",
   "metadata": {
    "id": "EnPoi7CH8waY"
   },
   "source": [
    "On regarde combien de tokens par observation sont contenus dans la colonne \"Sens et motivation\""
   ]
  },
  {
   "cell_type": "code",
   "execution_count": null,
   "metadata": {
    "id": "N-O8XlTY8waY"
   },
   "outputs": [],
   "source": [
    "df[\"nb_tokens_motivation\"].describe()"
   ]
  },
  {
   "cell_type": "markdown",
   "metadata": {
    "id": "Gw9Ipb5-8waY"
   },
   "source": [
    "On crée ici la matrice TF à l'aide de la même fonction que celle utilisée en partie 1. "
   ]
  },
  {
   "cell_type": "code",
   "execution_count": null,
   "metadata": {
    "id": "pk19O7NX8waY"
   },
   "outputs": [],
   "source": [
    "vect = CountVectorizer()\n",
    "vect.fit(df[\"Sens et motivation\"])"
   ]
  },
  {
   "cell_type": "code",
   "execution_count": null,
   "metadata": {
    "id": "JHsXRHDF8waY"
   },
   "outputs": [],
   "source": [
    "print(\"Vocabulary size: {}\".format(len(vect.vocabulary_)))\n",
    "print(\"Vocabulary content:\\n {}\".format(vect.vocabulary_))\n",
    "dict_vocabulary = vect.vocabulary_"
   ]
  },
  {
   "cell_type": "markdown",
   "metadata": {
    "id": "WgO9U0n78waY"
   },
   "source": [
    "On retient les 5 catégories suivantes: \n",
    "    - défavorable\n",
    "    - favorable\n",
    "    - incompétence \n",
    "    - irrecevable \n",
    "    - sans object \n",
    "    \n",
    "La fonction \"sens_categorie\" écrite ci-dessous permet de calculer cette nouvelle variable. "
   ]
  },
  {
   "cell_type": "code",
   "execution_count": null,
   "metadata": {
    "id": "T1eslys88waZ"
   },
   "outputs": [],
   "source": [
    "def sens_categorie(x): \n",
    "    if \"défavorable\" in x: \n",
    "        return \"defavorable\"\n",
    "    elif \"favorable\" in x: \n",
    "        return \"favorable\"\n",
    "    elif \"incompétence\" in x: \n",
    "        return \"incompetence\"\n",
    "    elif \"irrecevable\" in x: \n",
    "        return \"incompetence\"\n",
    "    elif (\"sans\" in x) and (\"objet\" in x):\n",
    "        return \"sans_objet\"\n",
    "    else: \n",
    "        return \"autre\"\n",
    "    \n",
    "df[\"sens_categorie\"] = df[\"sens_token\"].map(sens_categorie)"
   ]
  },
  {
   "cell_type": "code",
   "execution_count": null,
   "metadata": {
    "id": "T-o2voZ48waZ"
   },
   "outputs": [],
   "source": [
    "df[\"sens_categorie\"].value_counts()"
   ]
  },
  {
   "cell_type": "markdown",
   "metadata": {
    "id": "weec21fH8waa"
   },
   "source": [
    "#### Etape 2:  Entraînement du modèle \n",
    "Nous allons utiliser un modèle supervisé. Il nous faut donc: \n",
    "- une variable cible (ici la variable sens_catégorie que nous venons de créer et qui comporte 4 valeurs uniques) \n",
    "- des features (variables explicatives) à partir desquelles l'algorithmes va \"apprendre\" à prédire la variable cible : ici les features seront créés à partir du texte des avis\n",
    "\n",
    "La variable cible étant \"multi-modale\" (ici nous avons 4 possibilités), nous devons choisir un modèle adapté. Nous prenons ici le modèle multinomial Naive Bayes. Voir ici la description du modèle : https://fr.wikipedia.org/wiki/Classification_na%C3%AFve_bay%C3%A9sienne \n",
    "\n",
    "\n",
    "![schema_supervise.png](https://github.com/etalab-ia/ami-ia/blob/master/session2/images/schema_supervise.png?raw=1)\n"
   ]
  },
  {
   "cell_type": "markdown",
   "metadata": {
    "id": "r8q5RzFf8waa"
   },
   "source": [
    "On sépare le jeu de données en deux: \n",
    "- un jeu d'entraînement (train): text_train (ce qui va permettre de créer les features) et y_train (la variable cible du jeu d'entraînementà\n",
    "- un jeu de test : text_test (ce qui va nous permettre de créer les features) et y_test (la variable cible du jeu de test)"
   ]
  },
  {
   "cell_type": "code",
   "execution_count": null,
   "metadata": {
    "id": "Np3_u_Zm8waa"
   },
   "outputs": [],
   "source": [
    "text_train, text_test, y_train, y_test = train_test_split(df[\"Avis\"], df[\"sens_categorie\"], test_size = 0.2, random_state = 42)"
   ]
  },
  {
   "cell_type": "markdown",
   "metadata": {
    "id": "YcKY2gBD8waa"
   },
   "source": [
    "#### Entraînement du modèle avec la matrice term frequency (TF) (voir Partie 3 qui présente différentes méthodes de vectorisation dont la matrice term frequency )\n",
    "\n",
    "Ci-dessous on crée la matrice TF à l'aide de la fonction CountVectorizer() de sklearn.\n",
    "Le paramètre min_df permet de ne prendre en compte que les mots qui apparaissent au moins x fois dans le corpus. Nous l'avons mis à 10 ici mais il est possible de faire varier ce paramètre et de ré-entraîner le modèle. "
   ]
  },
  {
   "cell_type": "code",
   "execution_count": null,
   "metadata": {
    "id": "Wt9G8hkF8waa"
   },
   "outputs": [],
   "source": [
    "vect = CountVectorizer(min_df = 10).fit(text_train)\n",
    "X_train = vect.transform(text_train)\n",
    "print(\"X_train:\\n{}\".format(repr(X_train)))"
   ]
  },
  {
   "cell_type": "markdown",
   "metadata": {
    "id": "RAfCpOBX8wab"
   },
   "source": [
    "Les commandes ci-dessous permettent de connaitre: \n",
    "    - le nombre total de features crées à partir du texte des avis\n",
    "    - le nom des 20 premières features\n",
    "    - le nom des 20 dernières features "
   ]
  },
  {
   "cell_type": "code",
   "execution_count": null,
   "metadata": {
    "id": "MytAD_Xv8wab"
   },
   "outputs": [],
   "source": [
    "feature_names = vect.get_feature_names()\n",
    "print(\"Nombre de features: {}\".format(len(feature_names)))\n",
    "print(\"Premières 20 features:\\n{}\".format(feature_names[:20]))\n",
    "print(\"Les 20 dernières features:\\n{}\".format(feature_names[-20:]))"
   ]
  },
  {
   "cell_type": "markdown",
   "metadata": {
    "id": "4HPKMzN38wab"
   },
   "source": [
    "Entrainement du modèle en utilisant la méthode de k-fold cross-validation avec k = 5"
   ]
  },
  {
   "cell_type": "code",
   "execution_count": null,
   "metadata": {
    "id": "g1PVwnqO8wab"
   },
   "outputs": [],
   "source": [
    "scores = cross_val_score(MultinomialNB(), X_train, y_train, cv=5)\n",
    "print(\"5-fold cross validation justesse (accuracy): {:.2f}\".format(np.mean(scores)))"
   ]
  },
  {
   "cell_type": "markdown",
   "metadata": {
    "id": "AfW9gP3L8wac"
   },
   "source": [
    "#### Optimisation des hyper paramètre (ici l'hyper paramètre est alpha)\n",
    "\n",
    "Le concept d'**hyperparamètres** : des paramètres que le modèle ne peut pas apprendre, ils sont donc fixés \"manuellement\". \n",
    "\n",
    "La méthode appelée **GridSearch** permet de tester différentes valeurs d'hyperparamètre et de sélectionner la valeur donnant la meilleure performance. \n"
   ]
  },
  {
   "cell_type": "code",
   "execution_count": null,
   "metadata": {
    "id": "tDade4dk8wac"
   },
   "outputs": [],
   "source": [
    "param_grid = {'alpha': [0.001, 0.01, 0.1, 1, 10, 12, 14, 16, 20, 30, 40]}\n",
    "grid = GridSearchCV(MultinomialNB(), param_grid, cv=5)\n",
    "grid.fit(X_train, y_train)\n",
    "print(\"Meilleur cross-validation score: {:.2f}\".format(grid.best_score_))\n",
    "print(\"Meilleur paramètre: \", grid.best_params_)\n",
    "best_model = grid.best_estimator_\n"
   ]
  },
  {
   "cell_type": "markdown",
   "metadata": {
    "id": "mL5XreFF8wac"
   },
   "source": [
    "On regarde le score sur l'échantillon test : "
   ]
  },
  {
   "cell_type": "code",
   "execution_count": null,
   "metadata": {
    "id": "imTT9UmX8wad"
   },
   "outputs": [],
   "source": [
    "X_test = vect.transform(text_test)\n",
    "print(\"Test score: {:.2f}\".format(grid.score(X_test, y_test)))"
   ]
  },
  {
   "cell_type": "markdown",
   "metadata": {
    "id": "0DBbmYi78wad"
   },
   "source": [
    "**Matrice de confusion**"
   ]
  },
  {
   "cell_type": "code",
   "execution_count": null,
   "metadata": {
    "id": "Zw3dJYvc8wad"
   },
   "outputs": [],
   "source": [
    "y_pred = best_model.predict(X_test)\n",
    "conf_mat = confusion_matrix(y_test, y_pred)\n",
    "\n",
    "conf_mat_df = pd.DataFrame(confusion_matrix(y_test, y_pred), \n",
    "                index=['Vrai Défavorable', 'Vrai Favorable', 'Vrai Incompétence', 'Vrai Sans Objet'],\n",
    "                columns=['Prédit Défavorable', 'Prédit Favorable', 'Prédit Incompétence', 'Prédit Sans Objet'])\n",
    "\n",
    "print(\"Matrice de confusion sur le jeu de données test\")\n",
    "conf_mat_df"
   ]
  },
  {
   "cell_type": "markdown",
   "metadata": {
    "id": "Ox318UCl8wad"
   },
   "source": [
    "**A vous de jouer** :  au vue de la matrice ci-dessus\n",
    "- parmi les avis prédits en défavorables, combien ont été correctement prédits ? \n",
    "- parmi les avis effectivement défavorables, combien ont été prédits en avis favorables? "
   ]
  },
  {
   "cell_type": "code",
   "execution_count": null,
   "metadata": {
    "id": "-gMM4Ter8wad"
   },
   "outputs": [],
   "source": [
    "X_all =  vect.transform(df[\"Avis\"])\n",
    "df[\"y_pred\"] = best_model.predict(X_all)\n",
    "conf_mat_all = confusion_matrix(df[\"sens_categorie\"], df[\"y_pred\"])\n",
    "\n",
    "conf_mat_all_df = pd.DataFrame(conf_mat_all, \n",
    "                index=['Vrai Défavorable', 'Vrai Favorable', 'Vrai Incompétence', 'Vrai Sans Objet'],\n",
    "                columns=['Prédit Défavorable', 'Prédit Favorable', 'Prédit Incompétence', 'Prédit Sans Objet'])\n",
    "\n",
    "print(\"Matrice de confusion sur l'ensemble train + test\")\n",
    "conf_mat_all_df"
   ]
  },
  {
   "cell_type": "markdown",
   "metadata": {
    "id": "S_b0yw9h8wae"
   },
   "source": [
    "On va maintenant regarder des exemples de valeurs mal \"prédites\" pour comprendre d'où vient le problème"
   ]
  },
  {
   "cell_type": "code",
   "execution_count": null,
   "metadata": {
    "id": "rF6fpJdA8wae"
   },
   "outputs": [],
   "source": [
    "numero_doc = 0\n",
    "df[\"is_correct\"] = df.apply(lambda row: 1 if row[\"sens_categorie\"]==row[\"y_pred\"] else 0, axis = 1)\n",
    "df_errors = df[df[\"is_correct\"]==0].reset_index()\n",
    "print(df_errors.loc[numero_doc, \"Avis\"])\n",
    "print(\"\\n\")\n",
    "print(\"Conclusion de l'avis (variable initiale): {}\".format(df_errors.loc[numero_doc, \"Sens et motivation\"]))\n",
    "print(\"Conclusion de l'avis (variable simplifiée): {}\".format(df_errors.loc[numero_doc, \"sens_categorie\"]))\n",
    "print(\"Prédiction : {}\".format(df_errors.loc[numero_doc, \"y_pred\"]))\n"
   ]
  },
  {
   "cell_type": "markdown",
   "metadata": {
    "id": "2J8dqcT28wae"
   },
   "source": [
    "#### Entraînement du modèle avec la matrice TF-IDF (voir Partie 3 qui présente différentes méthodes de vectorisation dont la matrice term frequency )\n",
    "Les étapes sont les mêmes que dans la partie entraînement du modèle avec la matrice term-frequency)"
   ]
  },
  {
   "cell_type": "code",
   "execution_count": null,
   "metadata": {
    "id": "aGAQfEGl8wae"
   },
   "outputs": [],
   "source": [
    "vect = TfidfVectorizer(min_df = 15).fit(text_train)\n",
    "X_train = vect.transform(text_train)\n",
    "print(\"X_train:\\n{}\".format(repr(X_train)))"
   ]
  },
  {
   "cell_type": "code",
   "execution_count": null,
   "metadata": {
    "id": "NU2B56o18wae"
   },
   "outputs": [],
   "source": [
    "feature_names = vect.get_feature_names()\n",
    "print(\"Number of features: {}\".format(len(feature_names)))\n",
    "print(\"First 20 features:\\n{}\".format(feature_names[:20]))\n",
    "print(\"Every 2000th feature:\\n{}\".format(feature_names[::2000]))"
   ]
  },
  {
   "cell_type": "code",
   "execution_count": null,
   "metadata": {
    "id": "YM3-plh58waf"
   },
   "outputs": [],
   "source": [
    "from sklearn.model_selection import cross_val_score\n",
    "from sklearn.linear_model import LogisticRegression\n",
    "from sklearn.naive_bayes import MultinomialNB\n",
    "scores = cross_val_score(MultinomialNB(), X_train, y_train, cv=5)\n",
    "print(\"Mean cross-validation accuracy: {:.2f}\".format(np.mean(scores)))"
   ]
  },
  {
   "cell_type": "code",
   "execution_count": null,
   "metadata": {
    "id": "VCf_-phw8waf"
   },
   "outputs": [],
   "source": [
    "from sklearn.model_selection import GridSearchCV\n",
    "param_grid = {'alpha': [0.001, 0.01, 0.1, 0.2, 0.4, 0.5, 0.55, 0.6, 0.65, 0.7, 0.8, 1, 10, 12, 14, 16, 20, 30, 40]}\n",
    "grid = GridSearchCV(MultinomialNB(), param_grid, cv=5)\n",
    "grid.fit(X_train, y_train)\n",
    "print(\"Best cross-validation score: {:.2f}\".format(grid.best_score_))\n",
    "print(\"Best parameters: \", grid.best_params_)\n",
    "\n"
   ]
  },
  {
   "cell_type": "code",
   "execution_count": null,
   "metadata": {
    "id": "KoBMUI5Q8waf"
   },
   "outputs": [],
   "source": [
    "X_test = vect.transform(text_test)\n",
    "print(\"Test score: {:.2f}\".format(grid.score(X_test, y_test)))"
   ]
  },
  {
   "cell_type": "markdown",
   "metadata": {
    "id": "Ct2iFRi08waf"
   },
   "source": [
    "# Partie 3 : Pour aller plus loin:  manipulations de données textuelles basiques\n"
   ]
  },
  {
   "cell_type": "markdown",
   "metadata": {
    "id": "3npZsYbW8wag"
   },
   "source": [
    "importation des librairies NLP "
   ]
  },
  {
   "cell_type": "code",
   "execution_count": null,
   "metadata": {
    "id": "_S-t05wk8wag"
   },
   "outputs": [],
   "source": [
    "import nltk\n",
    "nltk.download('punkt')\n",
    "from nltk.tokenize import sent_tokenize, word_tokenize"
   ]
  },
  {
   "cell_type": "markdown",
   "metadata": {
    "id": "H_GqytWZ8wah"
   },
   "source": [
    "on étudie ici les textes des avis, \n",
    "on supprime les lignes pour lesquelles l'avis n'est pas renseigné"
   ]
  },
  {
   "cell_type": "code",
   "execution_count": null,
   "metadata": {
    "id": "s5QmrWZH8wah",
    "scrolled": true
   },
   "outputs": [],
   "source": [
    "df = df.dropna(subset = [\"Avis\"]) \n",
    "print(df.shape)"
   ]
  },
  {
   "cell_type": "markdown",
   "metadata": {
    "id": "gZSnBseG8wai"
   },
   "source": [
    "### Découpage du texte \n",
    "Chaque avis (dans la colonne \"Avis\") est une chaîne de caractères, il faut donc lui appliquer un certain nombre d'opération afin de pouvoir la traiter algorithmiquement. Une première étape, la tokenization, consiste en découper la chaine de caractères en \"tokens\". Pour cela, on utilise des fonctions prédéfinies de la librairies NLTK. \n",
    "Il existe plusieurs métodes de tokenization, et le choix de la méthode va dépendre de l'objectif de l'étude. \n",
    "Les métodes les plus classques sont: \n",
    "- la tokenisation en phrases (sentence tokenization en anglais)\n",
    "- la tokenisation en mots (word tokenization en anglais)\n",
    "\n",
    "\n",
    "On crée ici deux nouvelles colonnes, correspondant à ces deux modes de tokenization \n",
    "\n",
    "### Le terme consacré en NLP pour ce découpage est la tokénisation "
   ]
  },
  {
   "cell_type": "code",
   "execution_count": null,
   "metadata": {
    "id": "sqEZgZst8wai"
   },
   "outputs": [],
   "source": [
    "df[\"avis_sent_token\"] = df[\"Avis\"].map(sent_tokenize)\n",
    "df[\"avis_word_token\"] = df[\"Avis\"].map(lambda x : word_tokenize(x.replace(\"'\", \" \"))) # on remplace les appostrophes par un espaces\n",
    "# car la tokenization avec la fonction \"word_tokenize\" de nltk ne les sépare pas autrement "
   ]
  },
  {
   "cell_type": "markdown",
   "metadata": {
    "id": "LxOebT9v8waj"
   },
   "source": [
    "on regarde ce que ça donne : "
   ]
  },
  {
   "cell_type": "code",
   "execution_count": null,
   "metadata": {
    "id": "9vLJ6Txc8waj"
   },
   "outputs": [],
   "source": [
    "numero_ligne = 1 # changer le nombre afin de visualiser différentes lignes du jeu de données \n",
    "print(\"Texte initial de l'avis\")\n",
    "print(df.loc[numero_ligne, \"Avis\"])\n",
    "print(\"\\n\")\n",
    "print(\"Texte tokenizé en phrases\")\n",
    "print(\"Nombre de phrases : {}\".format(len(df.loc[numero_ligne, \"avis_sent_token\"])))\n",
    "print(df.loc[numero_ligne, \"avis_sent_token\"])\n",
    "print(\"\\n\")\n",
    "print(\"Texte tokenizé en mots\")\n",
    "print(\"Nombre de mots : {}\".format(len(df.loc[numero_ligne, \"avis_word_token\"])))\n",
    "\n",
    "print(df.loc[numero_ligne, \"avis_word_token\"])\n"
   ]
  },
  {
   "cell_type": "markdown",
   "metadata": {
    "id": "SHPqC1WE8wak"
   },
   "source": [
    "# on calcule des métriques simples : \n",
    "- le nombre de caractères par avis\n",
    "- le nombre de phrases par avis \n",
    "- le nombre de mots par avis"
   ]
  },
  {
   "cell_type": "code",
   "execution_count": null,
   "metadata": {
    "id": "JeEieWbl8wak"
   },
   "outputs": [],
   "source": [
    "df[\"nb_char\"] = df[\"Avis\"].map(len)\n",
    "df[\"nb_sent_token\"] = df[\"avis_sent_token\"].map(len)\n",
    "df[\"nb_word_token\"] = df[\"avis_word_token\"].map(len)"
   ]
  },
  {
   "cell_type": "markdown",
   "metadata": {
    "id": "2X0UjMxj8wak"
   },
   "source": [
    "on regarde la moyenne, l'écart type, les quartiles de ces métriques"
   ]
  },
  {
   "cell_type": "code",
   "execution_count": null,
   "metadata": {
    "id": "4WgtBx2w8wal",
    "scrolled": true
   },
   "outputs": [],
   "source": [
    "df[[\"nb_char\", \"nb_word_token\", \"nb_sent_token\" ]].describe()"
   ]
  },
  {
   "cell_type": "markdown",
   "metadata": {
    "id": "PN3YRbf08wal"
   },
   "source": [
    "une fois qu'on a divisé notre texte en une liste de mots, on peut faire plusieurs opérations de netoyage \n",
    "- retirer la ponctuation \n",
    "- mettre tous les caractères en minuscules (peut aussi être fait avant la tokenization)\n",
    "- enlever les stopwords (mots sans apport pour comprendre le sens de la phrase)\n",
    "- lemmatiser ou stemmer afin de regrouper deux termes proches en un terme unique : \n",
    "    - personnes -> personne\n",
    "    - conduisent, conduis, etc.. -> conduire\n",
    "    \n",
    "Ces étapes sont réalisées dans la partie 2 : extraction de topics"
   ]
  },
  {
   "cell_type": "markdown",
   "metadata": {
    "id": "MlbDtTPe8wal"
   },
   "source": [
    "### Vectorisation"
   ]
  },
  {
   "cell_type": "markdown",
   "metadata": {
    "id": "3vro8-xJ8wal"
   },
   "source": [
    "on peut ensuite \"vectoriser ces listes de mots afin de les rendre intelligible par une machine, \n",
    "il existe plusieurs méthode de vectoriser \n",
    "    - la matrice de term frequency \n",
    "    - la matrice tf-idf\n",
    "    - les word embeddings \n",
    "    \n",
    "Une fois que ces documents sont vectorisés, on peut utiliser ces features numériques nouvellement crées pour faire de la modélisation."
   ]
  },
  {
   "cell_type": "markdown",
   "metadata": {
    "id": "3LzuN50S8wal"
   },
   "source": [
    "Ressource: un article (en anglais) bien fait qui montre comment calculer la matrice TF et TF-IDF \"form scratch: cratch : https://towardsdatascience.com/text-summarization-using-tf-idf-e64a0644ace3"
   ]
  },
  {
   "cell_type": "markdown",
   "metadata": {
    "id": "RSzMj90f8wam"
   },
   "source": [
    "Pour calculer automatiquement ces matrices, il existe différentes librairies. On utilise ici la librairie sklearn\n"
   ]
  },
  {
   "cell_type": "markdown",
   "metadata": {
    "id": "BDgljSVV8wam"
   },
   "source": [
    "### La matrice de term frequency (matrice d'occurrence de termes)"
   ]
  },
  {
   "cell_type": "markdown",
   "metadata": {
    "id": "0mTaklzw8wam"
   },
   "source": [
    "![term_doc_matrix.png](https://github.com/etalab-ia/ami-ia/blob/master/session2/images/term_doc_matrix.png?raw=1)"
   ]
  },
  {
   "cell_type": "markdown",
   "metadata": {
    "id": "23VMEU9N8wam"
   },
   "source": [
    "Chaque document est composé d'un certains nombre de mots. L'ensemble de tous les mots distincts présents dans les documents consititue le vocabulaire du corpus (corpus = ensemble des documents). \n",
    "La term-frequency matrix est une matrice avec une ligne par document et une colonne par mot du vocabulaire. \n",
    "Pour chaque document, les colonnes donne le nombre de fois où le mot apparait dans le document. \n",
    "C'est l'approche qu'on appelle souvent \"bag of words\" ou sac de mots en français. "
   ]
  },
  {
   "cell_type": "markdown",
   "metadata": {
    "id": "9jk39--x8wam"
   },
   "source": [
    "Ci-dessous on calcule la matrice Term frequency à l'aide de la librairie sklearn, qui comprend un modèle \"CountVectorizer\", qui'il faut entraîner sur le corpus de données (la liste des avis). Une fois le modèle entrainé, on l'applique (avec la métode transform) sur le même corpus de données. \n",
    "Un paramètre utile au modèle CountVectorizer est \"min_df\", qui correspond au minumum de fois où un mot doit apparaitre dans le corpus afin d'être pris en compte dans la matrice. Il est par défaut à 1, mais en l'augmentant, on peut réduire considérablement le nomnbre de colonnes de la matrice et donc se débarrasser des termes qui apparaissent trop peu. "
   ]
  },
  {
   "cell_type": "code",
   "execution_count": null,
   "metadata": {
    "id": "RTBIuQmi8wam"
   },
   "outputs": [],
   "source": [
    "vect = CountVectorizer(min_df = 15).fit(df[\"Avis\"])\n",
    "tf_matrix = vect.transform(df[\"Avis\"])\n",
    "print(\"TF-Matrix:\\n{}\".format(repr(tf_matrix)))"
   ]
  },
  {
   "cell_type": "code",
   "execution_count": null,
   "metadata": {
    "id": "BKM4GtXE8wam"
   },
   "outputs": [],
   "source": [
    "feature_names = vect.get_feature_names()\n",
    "print(\"Nombre de features: {}\".format(len(feature_names)))\n",
    "print(\"Les 20 premières features:\\n{}\".format(feature_names[:20]))\n"
   ]
  },
  {
   "cell_type": "markdown",
   "metadata": {
    "id": "rmYsFeD48wan"
   },
   "source": [
    "Pour visualiser la matrice, on la transforme en dataframe: \n",
    "    "
   ]
  },
  {
   "cell_type": "code",
   "execution_count": null,
   "metadata": {
    "id": "PHE_HNVE8wan"
   },
   "outputs": [],
   "source": [
    "tf_dataframe = pd.SparseDataFrame(tf_matrix, columns = feature_names).fillna(0)"
   ]
  },
  {
   "cell_type": "code",
   "execution_count": null,
   "metadata": {
    "id": "tCGIHUEM8wan"
   },
   "outputs": [],
   "source": [
    "tf_dataframe.head()"
   ]
  },
  {
   "cell_type": "code",
   "execution_count": null,
   "metadata": {
    "id": "2lrKVeXJ8wao"
   },
   "outputs": [],
   "source": [
    "set(tf_dataframe[\"être\"])"
   ]
  },
  {
   "cell_type": "markdown",
   "metadata": {
    "id": "hAIe1Llo8wao"
   },
   "source": [
    "On observe ce que l'on appelle une matrice sparse, ce qui signifie que la majorité des termes sont à 0.\n",
    "On voit par exemple que les documents 3 et 4 ont chacun une fois le mot \"être\". "
   ]
  },
  {
   "cell_type": "markdown",
   "metadata": {
    "id": "3FZ8hMtt8wao"
   },
   "source": [
    "On peut regarder quels sont les termes les plus fréquents: "
   ]
  },
  {
   "cell_type": "code",
   "execution_count": null,
   "metadata": {
    "id": "Johm41Id8wao"
   },
   "outputs": [],
   "source": [
    "sum_words = tf_matrix.sum(axis=0)\n",
    "words_freq = [(word, sum_words[0, idx]) for word, idx in vect.vocabulary_.items()]\n",
    "words_freq =sorted(words_freq, key = lambda x: x[1], reverse=True)"
   ]
  },
  {
   "cell_type": "code",
   "execution_count": null,
   "metadata": {
    "id": "Etshc7Ui8wao"
   },
   "outputs": [],
   "source": [
    "words_freq[0:20]"
   ]
  },
  {
   "cell_type": "markdown",
   "metadata": {
    "id": "822WmRDV8wap"
   },
   "source": [
    "### La matrice tf-idf"
   ]
  },
  {
   "cell_type": "markdown",
   "metadata": {
    "id": "KaD1J3UB8wap"
   },
   "source": [
    "![tfidf_matrix.png](https://github.com/etalab-ia/ami-ia/blob/master/session2/images/tfidf_matrix.png?raw=1)"
   ]
  },
  {
   "cell_type": "markdown",
   "metadata": {
    "id": "wWCuEFgb8wap"
   },
   "source": [
    "La matrice TF-IDF est très similaire dans son principe à la matrice TF. Elle a le même format: une ligne par document et une colonne par mot du vocabulaire. Chaque \"case\" de la matrice sera calculée à partir de la case la matrice TF, mais sera pondérée par l'IDF (inverse document frequency). Cette pondération permet de prendre en compte la fréquence d'occurence d'un terme dans l'ensemble des documents (le corpus). L'idée derrière cette pondération est qu'un terme qui apparait dans un très grand nombre de document n'apporte pas beaucoup d'information pour décrire un document en particulier. Par exemple, dans notre cas, le mot \"avis\" apparait dans quasiment tous nos documents, il aura donc une fréquence d'apparition dans le corpus élevé et donc un IDF (son inverse) faible. \n",
    "\n",
    "Pour résumer, pour un mot donné d'un document donné, le TF-IDF: \n",
    "\n",
    "- augmente avec le nombre d'occurrences du mot dans le document\n",
    "- diminue avec le nombre d'occirrences du mot dans le corpus\n"
   ]
  },
  {
   "cell_type": "code",
   "execution_count": null,
   "metadata": {
    "id": "1EtWuNOU8wap"
   },
   "outputs": [],
   "source": [
    "vect2 = TfidfVectorizer(min_df = 15, norm = None).fit(df[\"Avis\"])\n",
    "tfidf_matrix = vect2.transform(df[\"Avis\"])\n",
    "print(\"TF-Matrix:\\n{}\".format(repr(tf_matrix)))"
   ]
  },
  {
   "cell_type": "code",
   "execution_count": null,
   "metadata": {
    "id": "p8AuBX3O8wap"
   },
   "outputs": [],
   "source": [
    "feature_names = vect2.get_feature_names()\n",
    "print(\"Nombre de features: {}\".format(len(feature_names)))\n",
    "print(\"Les 20 premières features:\\n{}\".format(feature_names[:20]))"
   ]
  },
  {
   "cell_type": "markdown",
   "metadata": {
    "id": "nazlxA7z8waq"
   },
   "source": [
    "Sans surprise, on obtient les mêmes features qu'avec la matrice TF. Regardons mainteant quelques lignes de cette matrice: "
   ]
  },
  {
   "cell_type": "code",
   "execution_count": null,
   "metadata": {
    "id": "E0y_p0uT8waq"
   },
   "outputs": [],
   "source": [
    "tfidf_matrix_dense = tfidf_matrix.todense()\n",
    "tfidf_matrix_dense[tfidf_matrix_dense == 0] = np.nan\n",
    "mean_words = np.nanmean(tfidf_matrix_dense, axis=0)\n",
    "words_mean_tfidf = [(word, mean_words[0, idx]) for word, idx in vect2.vocabulary_.items()]\n",
    "words_freq =sorted(words_mean_tfidf, key = lambda x: x[1], reverse=True)"
   ]
  },
  {
   "cell_type": "code",
   "execution_count": null,
   "metadata": {
    "id": "3hUMFSIs8waq"
   },
   "outputs": [],
   "source": [
    "words_freq[0:20]"
   ]
  },
  {
   "cell_type": "markdown",
   "metadata": {
    "id": "5NGfXjQ18waq"
   },
   "source": [
    "Il est intéressant de comparer ici les termes remontés avec la matrice TF et ceux avec la matrice TFIDF. La matrice TF remonte beaucoup de termes \"inutiles\" (de, et, etc...), alors que la matrice TFIDF remonte des termes plus intéressants. "
   ]
  },
  {
   "cell_type": "code",
   "execution_count": null,
   "metadata": {
    "id": "14UklACJ8war"
   },
   "outputs": [],
   "source": [
    "tfidf_dataframe = pd.SparseDataFrame(tfidf_matrix, columns = feature_names).fillna(0)"
   ]
  },
  {
   "cell_type": "code",
   "execution_count": null,
   "metadata": {
    "id": "VEJv6Tkt8war"
   },
   "outputs": [],
   "source": [
    "tfidf_dataframe.head()"
   ]
  },
  {
   "cell_type": "markdown",
   "metadata": {
    "id": "Omp2gpzM8war"
   },
   "source": [
    "### Exemple de word embeddings of word2vec\n",
    "\n",
    "A propos de word2vec: développé par une équipe de recherche de Google (article de 2013 disponible ici https://arxiv.org/abs/1301.3781), word2vec est un algorithme permettant de reprénter chaque mot dans un espace vectoriel à n dimensions (généralement n est fixé dans une valeur comprise entre 100 et 400). Les vecteurs des différents mots sont \"appris\" à l'aide d'un réseau de neurone artificiel. Ces vecteurs, appelés \"word embeddings\", permettent: \n",
    "- de rendre compte des proximités des mots dans le langage naturel (deux mots proches dans le langage, médecin et hopitaux, seront proches dans l'espace vectoriel) \n",
    "- de traduire certaines proprités linguistiques du langage naturel en propriétés mathématiques (cf. exemples dans illustration ci-dessous)\n",
    "\n"
   ]
  },
  {
   "cell_type": "markdown",
   "metadata": {
    "id": "sCc2AbNk8was"
   },
   "source": [
    "![word2vec.png](https://github.com/etalab-ia/ami-ia/blob/master/session2/images/word2vec.png?raw=1)"
   ]
  },
  {
   "cell_type": "markdown",
   "metadata": {
    "id": "jkDilP4H8was"
   },
   "source": [
    "Entrainement du modèle à partir du texte des avis Cada. Les paramètres à fixer sont: \n",
    "- size: la taille de l'espace vectoriel (le nombre de dimensions de chaque vecteur)"
   ]
  },
  {
   "cell_type": "code",
   "execution_count": null,
   "metadata": {
    "id": "Q0N5EiWx8was"
   },
   "outputs": [],
   "source": [
    "sentences = df[\"avis_word_token\"].tolist()\n",
    "from gensim.models import Word2Vec\n",
    "model = Word2Vec(sentences, size=100, window=5, min_count=5, workers=4)"
   ]
  },
  {
   "cell_type": "markdown",
   "metadata": {
    "id": "UJO_nZWt8was"
   },
   "source": [
    "exemple de vecteur pour un mot donné (vous pouvez changer le mot entre guillements et voir les variations des vecteurs)"
   ]
  },
  {
   "cell_type": "code",
   "execution_count": null,
   "metadata": {
    "id": "eSdZO5QX8was"
   },
   "outputs": [],
   "source": [
    "model.wv['avis']"
   ]
  },
  {
   "cell_type": "markdown",
   "metadata": {
    "id": "8JRnRi658wat"
   },
   "source": [
    "quelques exemples de calculs des mots les plus similaires, en utilisant la fonction méthode \"most_similar\""
   ]
  },
  {
   "cell_type": "code",
   "execution_count": null,
   "metadata": {
    "id": "DubUi1_G8wat"
   },
   "outputs": [],
   "source": [
    "model.most_similar(\"médecin\")"
   ]
  },
  {
   "cell_type": "code",
   "execution_count": null,
   "metadata": {
    "id": "G_iGUbu98wat"
   },
   "outputs": [],
   "source": [
    "model.most_similar(\"maire\")"
   ]
  },
  {
   "cell_type": "code",
   "execution_count": null,
   "metadata": {
    "id": "who7GisE8wat",
    "scrolled": true
   },
   "outputs": [],
   "source": [
    "model.most_similar(\"demande\")"
   ]
  }
 ],
 "metadata": {
  "colab": {
   "name": "ami_ia-NLP.ipynb",
   "provenance": []
  },
  "kernelspec": {
   "display_name": "Python 3 (ipykernel)",
   "language": "python",
   "name": "python3"
  },
  "language_info": {
   "codemirror_mode": {
    "name": "ipython",
    "version": 3
   },
   "file_extension": ".py",
   "mimetype": "text/x-python",
   "name": "python",
   "nbconvert_exporter": "python",
   "pygments_lexer": "ipython3",
   "version": "3.9.13"
  }
 },
 "nbformat": 4,
 "nbformat_minor": 1
}
